{
 "cells": [
  {
   "cell_type": "code",
   "execution_count": 1,
   "metadata": {},
   "outputs": [
    {
     "name": "stdout",
     "output_type": "stream",
     "text": [
      "Twinkle, twinkle, little star,\n",
      "      How I wonder what you are!\n",
      "        Up above the world so high,\n",
      "        Like a diamond in the sky.\n",
      "Twinkle, twinkle, little star,\n",
      "      How I wonder what you are\n"
     ]
    }
   ],
   "source": [
    "str1=\"Twinkle, twinkle, little star,\\n\";\n",
    "str2=\"      How I wonder what you are!\\n\";\n",
    "str3=\"        Up above the world so high,\\n\";\n",
    "str4=\"        Like a diamond in the sky.\\n\";\n",
    "str5=\"Twinkle, twinkle, little star,\\n\"\n",
    "str6=\"      How I wonder what you are\" \n",
    "\n",
    "print(str1+str2+str3+str4+str5+str6);"
   ]
  },
  {
   "cell_type": "code",
   "execution_count": 2,
   "metadata": {},
   "outputs": [
    {
     "name": "stdout",
     "output_type": "stream",
     "text": [
      "3.7.4 (default, Aug  9 2019, 18:34:13) [MSC v.1915 64 bit (AMD64)]\n"
     ]
    }
   ],
   "source": [
    "import sys\n",
    "print(sys.version)"
   ]
  },
  {
   "cell_type": "code",
   "execution_count": 4,
   "metadata": {},
   "outputs": [],
   "source": [
    "import datetime"
   ]
  },
  {
   "cell_type": "code",
   "execution_count": 5,
   "metadata": {},
   "outputs": [
    {
     "name": "stdout",
     "output_type": "stream",
     "text": [
      "2019-11-04 17:47:45.711876\n"
     ]
    }
   ],
   "source": [
    "print(datetime.datetime.now())\n"
   ]
  },
  {
   "cell_type": "code",
   "execution_count": 16,
   "metadata": {},
   "outputs": [
    {
     "name": "stdout",
     "output_type": "stream",
     "text": [
      "please enter area value45\n",
      "Radius of a circle is 7.17\n"
     ]
    }
   ],
   "source": [
    "circle_area = input(\"please enter area value\")\n",
    "circle_radius=(1*float(circle_area)/(2*3.14))\n",
    "print(\"Radius of a circle is \" + str(round(circle_radius,2)))"
   ]
  },
  {
   "cell_type": "code",
   "execution_count": 18,
   "metadata": {},
   "outputs": [
    {
     "name": "stdout",
     "output_type": "stream",
     "text": [
      "please enter your first number22\n",
      "please enter your second number23\n",
      "sum of two numbers are 45.0\n"
     ]
    }
   ],
   "source": [
    "first_number= input(\"please enter first number\")\n",
    "second_number= input(\"please enter second number\")\n",
    "sum_two_numbers= float(first_number)+float(second_number)\n",
    "print(\"sum of two numbers are \"+ str(sum_two_numbers))"
   ]
  },
  {
   "cell_type": "code",
   "execution_count": 20,
   "metadata": {},
   "outputs": [
    {
     "name": "stdout",
     "output_type": "stream",
     "text": [
      "please enter your first namenoman\n",
      "please enter your last nameiqbal\n",
      "Full Name : noman iqbal\n",
      "Reversed Full Name : labqi namon\n"
     ]
    }
   ],
   "source": [
    "first_name= input(\"please enter your first name\")\n",
    "last_name= input(\"please enter your last name\")\n",
    "full_name= first_name+\" \"+last_name\n",
    "print(\"Full Name : \" + full_name)\n",
    "print(\"Reversed Full Name : \" + full_name[::-1])"
   ]
  },
  {
   "cell_type": "code",
   "execution_count": null,
   "metadata": {},
   "outputs": [],
   "source": []
  }
 ],
 "metadata": {
  "kernelspec": {
   "display_name": "Python 3",
   "language": "python",
   "name": "python3"
  },
  "language_info": {
   "codemirror_mode": {
    "name": "ipython",
    "version": 3
   },
   "file_extension": ".py",
   "mimetype": "text/x-python",
   "name": "python",
   "nbconvert_exporter": "python",
   "pygments_lexer": "ipython3",
   "version": "3.7.4"
  }
 },
 "nbformat": 4,
 "nbformat_minor": 2
}
